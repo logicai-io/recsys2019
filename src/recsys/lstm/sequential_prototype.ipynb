{
 "cells": [
  {
   "cell_type": "code",
   "execution_count": 2,
   "metadata": {},
   "outputs": [],
   "source": [
    "import json\n",
    "\n",
    "from recsys.lstm.seq_utils import SeqVectorizer, calc_mrr, create_model\n",
    "from sklearn.preprocessing import LabelBinarizer"
   ]
  },
  {
   "cell_type": "code",
   "execution_count": null,
   "metadata": {},
   "outputs": [],
   "source": [
    "with open(\"lstm_data.ndjson\", encoding=\"utf-8\") as inp:\n",
    "    data = list(map(json.loads, inp.readlines()))"
   ]
  },
  {
   "cell_type": "code",
   "execution_count": null,
   "metadata": {},
   "outputs": [],
   "source": [
    "PAD = 25\n",
    "\n",
    "cutoff = len(data) // 2\n",
    "train_data = data[:cutoff]\n",
    "val_data = data[cutoff:]\n",
    "vect = SeqVectorizer(pad=PAD)\n",
    "vect.fit(train_data)\n",
    "\n",
    "train_data_tr = vect.transform(train_data)\n",
    "val_data_tr = vect.transform(val_data)\n",
    "\n",
    "model = create_model(vect)\n",
    "\n",
    "lb_encoder = LabelBinarizer()\n",
    "\n",
    "y_train_raw = [int(r[\"index_clicked\"]) if r[\"index_clicked\"] != \"UNK\" else 30 for r in train_data]\n",
    "y_val_raw = [int(r[\"index_clicked\"]) if r[\"index_clicked\"] != \"UNK\" else 30 for r in val_data]\n",
    "\n",
    "y_train_enc = lb_encoder.fit_transform(y_train_raw)\n",
    "y_val_enc = lb_encoder.transform(y_val_raw)\n",
    "\n",
    "model.fit(train_data_tr, y_train_enc, validation_data=(val_data_tr, y_val_enc), epochs=20, batch_size=512, shuffle=True)\n",
    "\n",
    "train_preds = model.predict(train_data_tr, batch_size=512, verbose=True)\n",
    "val_preds = model.predict(val_data_tr, batch_size=512, verbose=True)\n",
    "\n",
    "mrr_val = calc_mrr(val_preds, y_val_enc)\n",
    "mrr_train = calc_mrr(train_preds, y_train_enc)"
   ]
  }
 ],
 "metadata": {
  "jupytext": {
   "main_language": "python",
   "text_representation": {
    "extension": ".py",
    "format_name": "light",
    "format_version": "1.3",
    "jupytext_version": "1.0.2"
   }
  },
  "kernelspec": {
   "display_name": "Python 3",
   "language": "python",
   "name": "python3"
  },
  "language_info": {
   "codemirror_mode": {
    "name": "ipython",
    "version": 3
   },
   "file_extension": ".py",
   "mimetype": "text/x-python",
   "name": "python",
   "nbconvert_exporter": "python",
   "pygments_lexer": "ipython3",
   "version": "3.6.8"
  }
 },
 "nbformat": 4,
 "nbformat_minor": 2
}
