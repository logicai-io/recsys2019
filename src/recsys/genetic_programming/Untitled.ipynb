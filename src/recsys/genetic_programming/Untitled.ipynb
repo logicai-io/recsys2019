{
 "cells": [
  {
   "cell_type": "code",
   "execution_count": 27,
   "metadata": {},
   "outputs": [],
   "source": [
    "import pandas as pd\n",
    "import datatable as dt\n",
    "from tqdm import tqdm\n",
    "import graphviz\n",
    "\n",
    "ACTIONS_WITH_ITEM_REFERENCE = {\n",
    "    \"search for item\",\n",
    "    \"interaction item info\",\n",
    "    \"interaction item image\",\n",
    "    \"interaction item deals\",\n",
    "    \"interaction item rating\",\n",
    "    \"clickout item\",\n",
    "}"
   ]
  },
  {
   "cell_type": "code",
   "execution_count": 3,
   "metadata": {},
   "outputs": [],
   "source": [
    "df = pd.read_csv(\"../../../data/events_sorted.csv\", nrows=100000) "
   ]
  },
  {
   "cell_type": "code",
   "execution_count": 46,
   "metadata": {},
   "outputs": [
    {
     "name": "stderr",
     "output_type": "stream",
     "text": [
      "100%|██████████| 6241/6241 [00:15<00:00, 412.33it/s]\n"
     ]
    }
   ],
   "source": [
    "all_obs = []\n",
    "for user_id, df_user in tqdm(df.iloc[:100000].groupby(\"user_id\")):\n",
    "    obs = {}\n",
    "    obs[\"user_id\"] = user_id\n",
    "    interacted_ranks = []\n",
    "    for row in df_user.to_dict(orient='records'):\n",
    "        \n",
    "        action_type = row[\"action_type\"].replace(\" \", \"_\")\n",
    "        \n",
    "        if action_type == \"clickout_item\" and row[\"clickout_step_rev\"] > 1:\n",
    "            impressions = row[\"impressions\"].split(\"|\")\n",
    "                \n",
    "        if action_type == \"clickout_item\" and row[\"clickout_step_rev\"] == 1:\n",
    "            impressions = row[\"impressions\"].split(\"|\")\n",
    "            if row[\"reference\"] not in impressions:\n",
    "                continue\n",
    "            obs[\"index_clicked\"] = impressions.index(row[\"reference\"])\n",
    "            for rank, item_id in enumerate(row[\"impressions\"].split(\"|\")):\n",
    "                obs[\"item_id_impressions_clickout_item_{:02d}\".format(rank+1)] = int(item_id)\n",
    "            for rank, price in enumerate(row[\"prices\"].split(\"|\")):\n",
    "                obs[\"price_clickout_item_{:02d}\".format(rank+1)] = int(price)\n",
    "        \n",
    "        if row[\"clickout_step_rev\"] <= 10:\n",
    "            obs[\"timestamp_{}_{:02d}\".format(action_type, row[\"clickout_step_rev\"])] = \"TS=\"+str(row[\"timestamp\"])\n",
    "            if row[\"action_type\"] in ACTIONS_WITH_ITEM_REFERENCE:\n",
    "                try:\n",
    "                    impressions = row[\"impressions\"].split(\"|\")\n",
    "                    if row[\"reference\"] in impressions:\n",
    "                        interacted_ranks.append(impressions.index(row[\"reference\"]))\n",
    "                except:\n",
    "                    pass\n",
    "                        \n",
    "                obs[\"item_id_{}_{:02d}\".format(action_type, row[\"clickout_step_rev\"])] = \"ITEM_ID=\"+str(row[\"reference\"])\n",
    "                \n",
    "    for i, rank in enumerate(interacted_ranks[::-1]):\n",
    "        obs[\"interacted_rank_{}\".format(i)] = rank\n",
    "\n",
    "    all_obs.append(obs)"
   ]
  },
  {
   "cell_type": "code",
   "execution_count": 17,
   "metadata": {},
   "outputs": [],
   "source": [
    "df_all = pd.DataFrame.from_records(all_obs)"
   ]
  },
  {
   "cell_type": "code",
   "execution_count": 18,
   "metadata": {},
   "outputs": [],
   "source": [
    "price_cols = [col for col in df_all.columns if col.startswith(\"price_\")]\n",
    "item_id_cols = [col for col in df_all.columns if col.startswith(\"item_id_impressions_clickout_item\")]\n",
    "df_all = df_all[df_all[\"index_clicked\"] > 0]\n",
    "X = df_all[price_cols + item_id_cols].fillna(-1)\n",
    "y = df_all[\"index_clicked\"]"
   ]
  },
  {
   "cell_type": "code",
   "execution_count": 19,
   "metadata": {},
   "outputs": [
    {
     "data": {
      "text/plain": [
       "price_clickout_item_01                  float64\n",
       "price_clickout_item_02                  float64\n",
       "price_clickout_item_03                  float64\n",
       "price_clickout_item_04                  float64\n",
       "price_clickout_item_05                  float64\n",
       "price_clickout_item_06                  float64\n",
       "price_clickout_item_07                  float64\n",
       "price_clickout_item_08                  float64\n",
       "price_clickout_item_09                  float64\n",
       "price_clickout_item_10                  float64\n",
       "price_clickout_item_11                  float64\n",
       "price_clickout_item_12                  float64\n",
       "price_clickout_item_13                  float64\n",
       "price_clickout_item_14                  float64\n",
       "price_clickout_item_15                  float64\n",
       "price_clickout_item_16                  float64\n",
       "price_clickout_item_17                  float64\n",
       "price_clickout_item_18                  float64\n",
       "price_clickout_item_19                  float64\n",
       "price_clickout_item_20                  float64\n",
       "price_clickout_item_21                  float64\n",
       "price_clickout_item_22                  float64\n",
       "price_clickout_item_23                  float64\n",
       "price_clickout_item_24                  float64\n",
       "price_clickout_item_25                  float64\n",
       "item_id_impressions_clickout_item_01    float64\n",
       "item_id_impressions_clickout_item_02    float64\n",
       "item_id_impressions_clickout_item_03    float64\n",
       "item_id_impressions_clickout_item_04    float64\n",
       "item_id_impressions_clickout_item_05    float64\n",
       "item_id_impressions_clickout_item_06    float64\n",
       "item_id_impressions_clickout_item_07    float64\n",
       "item_id_impressions_clickout_item_08    float64\n",
       "item_id_impressions_clickout_item_09    float64\n",
       "item_id_impressions_clickout_item_10    float64\n",
       "item_id_impressions_clickout_item_11    float64\n",
       "item_id_impressions_clickout_item_12    float64\n",
       "item_id_impressions_clickout_item_13    float64\n",
       "item_id_impressions_clickout_item_14    float64\n",
       "item_id_impressions_clickout_item_15    float64\n",
       "item_id_impressions_clickout_item_16    float64\n",
       "item_id_impressions_clickout_item_17    float64\n",
       "item_id_impressions_clickout_item_18    float64\n",
       "item_id_impressions_clickout_item_19    float64\n",
       "item_id_impressions_clickout_item_20    float64\n",
       "item_id_impressions_clickout_item_21    float64\n",
       "item_id_impressions_clickout_item_22    float64\n",
       "item_id_impressions_clickout_item_23    float64\n",
       "item_id_impressions_clickout_item_24    float64\n",
       "item_id_impressions_clickout_item_25    float64\n",
       "dtype: object"
      ]
     },
     "execution_count": 19,
     "metadata": {},
     "output_type": "execute_result"
    }
   ],
   "source": [
    "X.dtypes"
   ]
  },
  {
   "cell_type": "code",
   "execution_count": 38,
   "metadata": {},
   "outputs": [
    {
     "name": "stdout",
     "output_type": "stream",
     "text": [
      "    |    Population Average   |             Best Individual              |\n",
      "---- ------------------------- ------------------------------------------ ----------\n",
      " Gen   Length          Fitness   Length          Fitness      OOB Fitness  Time Left\n",
      "   0    26.42 0.04248540414570351       63 0.20787176829398604              N/A      7.77s\n",
      "   1     7.42 0.1065611350014104        5 0.20802811444839048              N/A      8.88s\n",
      "   2      3.8 0.16186912772494683        3 0.20801685700800113              N/A      7.66s\n",
      "   3     2.97 0.17053920454932792        3 0.20801685700800113              N/A      6.64s\n",
      "   4      3.0 0.17226940406588387        3 0.20801685700800113              N/A      5.91s\n",
      "   5     3.07 0.17249396442292894        5 0.20801894145969121              N/A      5.32s\n",
      "   6      3.0 0.1684569651675334        3 0.20801685700800113              N/A      4.82s\n",
      "   7     3.05 0.17002354842603631        3 0.20801685700800113              N/A      4.37s\n",
      "   8      3.0 0.1723708700993885        3 0.20801685700800113              N/A      3.95s\n",
      "   9     3.04 0.1734795800434863        3 0.20810266269962333              N/A      3.87s\n",
      "  10     3.07 0.1767482737931612        3 0.20810266269962333              N/A      3.43s\n",
      "  11     3.05 0.17705057031301133        3 0.20810266269962333              N/A      3.01s\n",
      "  12     3.01 0.16618948129270952        3 0.20810266269962333              N/A      2.60s\n",
      "  13     3.02 0.16818272279097568        3 0.20810266269962333              N/A      2.21s\n",
      "  14     3.01 0.17333049608133413        3 0.20810266269962333              N/A      1.82s\n",
      "  15     2.99 0.17052308560185522        3 0.20810266269962333              N/A      1.45s\n",
      "  16      3.0 0.16708994658260728        3 0.20810266269962333              N/A      1.08s\n",
      "  17     3.03 0.16380984815580057        3 0.20810266269962333              N/A      0.72s\n",
      "  18     3.01 0.16548130344966727        3 0.20810266269962333              N/A      0.36s\n",
      "  19     3.04 0.16837605296203773        3 0.20810266269962333              N/A      0.00s\n"
     ]
    },
    {
     "ename": "ValueError",
     "evalue": "Lengths must match to compare",
     "output_type": "error",
     "traceback": [
      "\u001b[0;31m---------------------------------------------------------------------------\u001b[0m",
      "\u001b[0;31mValueError\u001b[0m                                Traceback (most recent call last)",
      "\u001b[0;32m<ipython-input-38-1fe7b9d1d8aa>\u001b[0m in \u001b[0;36m<module>\u001b[0;34m\u001b[0m\n\u001b[1;32m     18\u001b[0m \u001b[0mpred\u001b[0m \u001b[0;34m=\u001b[0m \u001b[0mest\u001b[0m\u001b[0;34m.\u001b[0m\u001b[0mpredict\u001b[0m\u001b[0;34m(\u001b[0m\u001b[0mX_va\u001b[0m\u001b[0;34m)\u001b[0m\u001b[0;34m\u001b[0m\u001b[0;34m\u001b[0m\u001b[0m\n\u001b[1;32m     19\u001b[0m \u001b[0;34m\u001b[0m\u001b[0m\n\u001b[0;32m---> 20\u001b[0;31m \u001b[0mprint\u001b[0m\u001b[0;34m(\u001b[0m\u001b[0;34m(\u001b[0m\u001b[0mpred\u001b[0m \u001b[0;34m==\u001b[0m \u001b[0my_tr\u001b[0m\u001b[0;34m)\u001b[0m\u001b[0;34m.\u001b[0m\u001b[0mmean\u001b[0m\u001b[0;34m(\u001b[0m\u001b[0;34m)\u001b[0m\u001b[0;34m)\u001b[0m\u001b[0;34m\u001b[0m\u001b[0;34m\u001b[0m\u001b[0m\n\u001b[0m",
      "\u001b[0;32m~/.pyenv/versions/miniconda3-latest/lib/python3.6/site-packages/pandas/core/ops.py\u001b[0m in \u001b[0;36mwrapper\u001b[0;34m(self, other, axis)\u001b[0m\n\u001b[1;32m   1743\u001b[0m             \u001b[0;31m# as it will broadcast\u001b[0m\u001b[0;34m\u001b[0m\u001b[0;34m\u001b[0m\u001b[0;34m\u001b[0m\u001b[0m\n\u001b[1;32m   1744\u001b[0m             \u001b[0;32mif\u001b[0m \u001b[0mother\u001b[0m\u001b[0;34m.\u001b[0m\u001b[0mndim\u001b[0m \u001b[0;34m!=\u001b[0m \u001b[0;36m0\u001b[0m \u001b[0;32mand\u001b[0m \u001b[0mlen\u001b[0m\u001b[0;34m(\u001b[0m\u001b[0mself\u001b[0m\u001b[0;34m)\u001b[0m \u001b[0;34m!=\u001b[0m \u001b[0mlen\u001b[0m\u001b[0;34m(\u001b[0m\u001b[0mother\u001b[0m\u001b[0;34m)\u001b[0m\u001b[0;34m:\u001b[0m\u001b[0;34m\u001b[0m\u001b[0;34m\u001b[0m\u001b[0m\n\u001b[0;32m-> 1745\u001b[0;31m                 \u001b[0;32mraise\u001b[0m \u001b[0mValueError\u001b[0m\u001b[0;34m(\u001b[0m\u001b[0;34m'Lengths must match to compare'\u001b[0m\u001b[0;34m)\u001b[0m\u001b[0;34m\u001b[0m\u001b[0;34m\u001b[0m\u001b[0m\n\u001b[0m\u001b[1;32m   1746\u001b[0m \u001b[0;34m\u001b[0m\u001b[0m\n\u001b[1;32m   1747\u001b[0m             \u001b[0mres_values\u001b[0m \u001b[0;34m=\u001b[0m \u001b[0mna_op\u001b[0m\u001b[0;34m(\u001b[0m\u001b[0mself\u001b[0m\u001b[0;34m.\u001b[0m\u001b[0mvalues\u001b[0m\u001b[0;34m,\u001b[0m \u001b[0mnp\u001b[0m\u001b[0;34m.\u001b[0m\u001b[0masarray\u001b[0m\u001b[0;34m(\u001b[0m\u001b[0mother\u001b[0m\u001b[0;34m)\u001b[0m\u001b[0;34m)\u001b[0m\u001b[0;34m\u001b[0m\u001b[0;34m\u001b[0m\u001b[0m\n",
      "\u001b[0;31mValueError\u001b[0m: Lengths must match to compare"
     ]
    }
   ],
   "source": [
    "from gplearn.genetic import SymbolicTransformer, SymbolicRegressor\n",
    "from lightgbm import LGBMClassifier\n",
    "from sklearn.pipeline import make_pipeline, make_union\n",
    "from sklearn.preprocessing import FunctionTransformer\n",
    "from sklearn.model_selection import train_test_split\n",
    "\n",
    "est = make_pipeline(\n",
    "        SymbolicTransformer(parsimony_coefficient=.001,\n",
    "                          random_state=1,\n",
    "                          function_set=['add', 'sub', 'mul', 'div', 'min', 'max'],\n",
    "                          verbose=True),\n",
    "        LGBMClassifier()\n",
    ")\n",
    "\n",
    "X_tr, X_va, y_tr, y_va = train_test_split(X, y)\n",
    "est.fit(X_tr, y_tr)\n",
    "\n",
    "pred = est.predict(X_va)\n",
    "\n",
    "print((pred == y_va).mean())"
   ]
  },
  {
   "cell_type": "code",
   "execution_count": 36,
   "metadata": {},
   "outputs": [
    {
     "ename": "AttributeError",
     "evalue": "'Pipeline' object has no attribute '_program'",
     "output_type": "error",
     "traceback": [
      "\u001b[0;31m---------------------------------------------------------------------------\u001b[0m",
      "\u001b[0;31mAttributeError\u001b[0m                            Traceback (most recent call last)",
      "\u001b[0;32m<ipython-input-36-75513fc90009>\u001b[0m in \u001b[0;36m<module>\u001b[0;34m\u001b[0m\n\u001b[0;32m----> 1\u001b[0;31m \u001b[0mdot_data\u001b[0m \u001b[0;34m=\u001b[0m \u001b[0mest\u001b[0m\u001b[0;34m.\u001b[0m\u001b[0m_program\u001b[0m\u001b[0;34m.\u001b[0m\u001b[0mexport_graphviz\u001b[0m\u001b[0;34m(\u001b[0m\u001b[0;34m)\u001b[0m\u001b[0;34m\u001b[0m\u001b[0;34m\u001b[0m\u001b[0m\n\u001b[0m\u001b[1;32m      2\u001b[0m \u001b[0mgraph\u001b[0m \u001b[0;34m=\u001b[0m \u001b[0mgraphviz\u001b[0m\u001b[0;34m.\u001b[0m\u001b[0mSource\u001b[0m\u001b[0;34m(\u001b[0m\u001b[0mdot_data\u001b[0m\u001b[0;34m)\u001b[0m\u001b[0;34m\u001b[0m\u001b[0;34m\u001b[0m\u001b[0m\n\u001b[1;32m      3\u001b[0m \u001b[0mgraph\u001b[0m\u001b[0;34m\u001b[0m\u001b[0;34m\u001b[0m\u001b[0m\n",
      "\u001b[0;31mAttributeError\u001b[0m: 'Pipeline' object has no attribute '_program'"
     ]
    }
   ],
   "source": [
    "dot_data = est._program.export_graphviz()\n",
    "graph = graphviz.Source(dot_data)\n",
    "graph"
   ]
  },
  {
   "cell_type": "code",
   "execution_count": 44,
   "metadata": {},
   "outputs": [
    {
     "name": "stdout",
     "output_type": "stream",
     "text": [
      "0.10922330097087378\n"
     ]
    }
   ],
   "source": [
    "print((pred == y_va.values).mean())"
   ]
  },
  {
   "cell_type": "code",
   "execution_count": 43,
   "metadata": {},
   "outputs": [
    {
     "data": {
      "text/plain": [
       "array([ 1.,  1.,  7.,  3.,  5.,  1.,  6.,  5.,  2.,  1.,  9.,  1.,  1.,\n",
       "        2.,  1.,  1.,  1.,  1.,  1.,  4.,  1.,  1.,  1., 15.,  5.,  2.,\n",
       "        2.,  1., 19., 19.,  1.,  2.,  6.,  3.,  2.,  1.,  2.,  1.,  1.,\n",
       "        8.,  1.,  1.,  9.,  7.,  1.,  1.,  1.,  1.,  1.,  2.,  2., 11.,\n",
       "        4.,  2.,  2.,  1.,  1.,  1.,  1.,  1.,  7.,  1.,  2.,  1.,  6.,\n",
       "        2.,  1., 18.,  3.,  1.,  1., 11.,  1.,  1.,  2.,  4.,  7.,  1.,\n",
       "        5.,  5.,  1.,  3.,  1.,  1.,  1.,  7.,  4.,  1., 11.,  1.,  6.,\n",
       "        1.,  1.,  1.,  6.,  4.,  2.,  2.,  1.,  1.,  1.,  2.,  1.,  7.,\n",
       "        4.,  1.,  4.,  1.,  7.,  6.,  3.,  4.,  3.,  1.,  2.,  2.,  4.,\n",
       "       10.,  2., 10.,  3.,  1.,  1.,  1.,  1.,  1.,  1.,  1.,  5.,  1.,\n",
       "        1.,  2.,  1.,  1.,  7.,  6.,  1.,  1.,  2.,  2.,  1.,  2.,  1.,\n",
       "        1.,  4.,  1.,  3.,  2.,  2.,  1.,  8.,  4.,  1.,  9.,  1.,  1.,\n",
       "        1.,  2.,  4.,  1.,  1.,  1.,  4., 19.,  1.,  2.,  1.,  6.,  1.,\n",
       "        2.,  1.,  1.,  1., 13.,  2.,  3.,  2.,  2.,  3., 14.,  1.,  2.,\n",
       "        9.,  1.,  2.,  2.,  2.,  5.,  1.,  4.,  1.,  1.,  1.,  1.,  3.,\n",
       "        1.,  4.,  1.,  2.,  4.,  2.,  1.,  2.,  4.,  1.,  1.,  1.,  2.,\n",
       "        9.,  1.,  1.,  2.,  1.,  1.,  1.,  4.,  1.,  1.,  8.,  4.,  1.,\n",
       "        1.,  1.,  1.,  2.,  2.,  5.,  8.,  1., 11.,  4.,  5.,  1.,  1.,\n",
       "        1.,  4.,  1.,  2.,  2.,  1.,  3.,  8.,  3.,  3.,  3., 19.,  2.,\n",
       "        3.,  1.,  1.,  1.,  1., 10.,  2.,  1., 15.,  2.,  2., 19.,  5.,\n",
       "        3.,  4.,  1., 15., 15.,  7., 15.,  4., 15.,  2.,  2.,  1.,  1.,\n",
       "        1.,  2.,  2.,  2.,  4.,  4.,  1.,  2.,  1.,  1., 19.,  4.,  1.,\n",
       "        1.,  1.,  3.,  6.,  1.,  2.,  1., 10.,  7.,  1.,  4.,  4.,  1.,\n",
       "        2.,  1.,  7.,  2., 18., 15.,  4.,  1.,  1.,  8., 11.,  1.,  1.,\n",
       "       17.,  1.,  3.,  1.,  2., 10.,  6.,  1.,  3.,  2.,  1.,  3.,  5.,\n",
       "        1.,  3.,  1.,  9.,  1.,  4.,  2., 10.,  4.,  7.,  1.,  1., 17.,\n",
       "        1.,  1.,  1.,  1.,  2.,  1.,  8.,  1., 15.,  2.,  9.,  1.,  2.,\n",
       "        1.,  1.,  1.,  1.,  1., 15., 11., 11.,  2.,  1.,  1.,  1.,  3.,\n",
       "        9.,  1., 22.,  1.,  5.,  9.,  1.,  1.,  2.,  2.,  2.,  1., 10.,\n",
       "        1.,  1.,  1.,  6.,  1.,  1., 24.,  1.,  4.,  1.,  2.,  2., 10.,\n",
       "        9.,  5.,  1.,  1.,  1.,  1.,  1.,  6.,  5., 18.,  2.,  1.,  1.,\n",
       "        1.,  1.,  9.,  1., 18.,  2.,  2.,  7.,  1., 19.,  1.,  1.,  3.,\n",
       "        6.,  1., 15.,  4.,  1.,  1.,  9.,  8., 11.,  1.,  2., 10.,  2.,\n",
       "       10.,  1.,  1.,  1.,  1.,  2.,  1., 10.,  1.,  2.,  2.,  1.,  1.,\n",
       "        1.,  2.,  4.,  1., 13.,  7.,  1., 10.,  1.,  1., 15.,  1., 17.,\n",
       "        1.,  3.,  1.,  1.,  1.,  3.,  1.,  1.,  2.,  7.,  1.,  1.,  1.,\n",
       "       17.,  1.,  1., 16.,  1.,  2.,  1., 11.,  2.,  8.,  1.,  2.,  2.,\n",
       "        1.,  1.,  1.,  1.,  2., 19.,  3.,  2.,  1., 10.,  1., 11., 20.,\n",
       "        1., 19., 14.,  5.,  2.,  1.,  1.,  2.,  2.,  2.,  2.,  2.,  1.,\n",
       "        2.,  3.,  1.,  1.,  1.,  1.,  5.,  3., 15.,  1.,  1.,  1.,  1.,\n",
       "        4.,  1.,  7., 15.,  1.,  1.,  1.,  1.,  1.,  1.,  2.,  1.,  2.,\n",
       "        1.,  4.,  2.,  1., 10.,  4.,  2.,  1.,  8., 11.,  2.,  2.,  6.,\n",
       "        2.,  3.,  1.,  4., 20., 18.,  1.,  1.,  8.,  1.,  9., 18.,  2.,\n",
       "        3.,  1.,  6.,  3.,  4.,  2.,  1.,  1.,  1.,  8.,  1.,  3., 15.,\n",
       "        1.,  1.,  2.,  6.,  2.,  5.,  1.,  1.,  1.,  3., 13.,  1.,  1.,\n",
       "        1.,  2.,  1.,  2.,  1., 18.,  1., 13.,  8.,  5.,  5.,  1.,  2.,\n",
       "       18., 15.,  1.,  7.,  8.,  1.,  1.,  2.,  8.,  2.,  1.,  1.,  1.,\n",
       "        1., 14.,  1.,  2.,  3.,  1.,  3.,  1.,  1.,  1.,  1.,  1.,  3.,\n",
       "        1.,  2.,  2.,  2.,  4.,  1.,  2.,  1.,  5.,  2.,  1.,  1.,  1.,\n",
       "       11.,  1.,  3.,  1., 15.,  4.,  1.,  7.,  1.,  3.,  7., 15.,  1.,\n",
       "        1.,  2.,  4., 15.,  2.,  3., 11.,  1.,  1.,  1., 11.,  1.,  3.,\n",
       "       11.,  4.,  1.,  3.,  4., 14.,  1.,  2., 19.,  1., 22.,  1.,  8.,\n",
       "        1.,  2.,  4., 13.,  2.,  2.,  1.,  1.,  1.,  1., 15.,  1.,  8.,\n",
       "        1.,  2., 17.,  2., 11.,  2.,  2.,  7.,  7.,  1.,  1.,  3., 19.,\n",
       "        1., 16.,  2.,  1.,  1., 24.,  3.,  6.,  2.,  7.,  4.,  1.,  6.,\n",
       "        1., 12.,  6.,  1.,  3.,  2.,  9.,  9.,  4.,  2.,  1.,  1.,  1.,\n",
       "        3.,  4.,  1.,  7.,  1.,  2.,  2.,  6.,  1.,  1.,  1., 15.,  7.,\n",
       "        8.,  1.,  1., 15.,  1.,  7.,  5.,  1.,  1.,  4.,  3.,  1.,  1.,\n",
       "        1.,  1.,  1.,  6.,  1.,  3.,  1.,  2.,  6.,  3.,  7.,  1.,  2.,\n",
       "        1.,  1.,  1.,  8.,  1.,  6.,  2.,  1.,  1.,  1.,  2.,  1., 10.,\n",
       "        1.,  1.,  7.,  2.,  2.,  2.,  1.,  1.,  3.,  1.,  1.,  3., 19.,\n",
       "        1.,  3.,  3.,  1.,  2.,  2.,  2.,  1.,  7.,  5., 15., 10.,  1.,\n",
       "        5.,  1.,  2.,  6.,  8., 11.,  9., 17.,  3.,  4., 16.,  2.,  5.,\n",
       "        1., 11.,  1., 15.,  2.])"
      ]
     },
     "execution_count": 43,
     "metadata": {},
     "output_type": "execute_result"
    }
   ],
   "source": [
    "pred"
   ]
  },
  {
   "cell_type": "code",
   "execution_count": null,
   "metadata": {},
   "outputs": [],
   "source": []
  }
 ],
 "metadata": {
  "jupytext": {
   "main_language": "python",
   "text_representation": {
    "extension": ".py",
    "format_name": "light",
    "format_version": "1.3",
    "jupytext_version": "1.0.2"
   }
  },
  "kernelspec": {
   "display_name": "Python 3",
   "language": "python",
   "name": "python3"
  },
  "language_info": {
   "codemirror_mode": {
    "name": "ipython",
    "version": 3
   },
   "file_extension": ".py",
   "mimetype": "text/x-python",
   "name": "python",
   "nbconvert_exporter": "python",
   "pygments_lexer": "ipython3",
   "version": "3.6.8"
  }
 },
 "nbformat": 4,
 "nbformat_minor": 2
}
