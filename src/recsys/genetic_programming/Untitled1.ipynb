{
 "cells": [
  {
   "cell_type": "code",
   "execution_count": 1,
   "metadata": {},
   "outputs": [],
   "source": [
    "import pandas as pd\n",
    "import numpy as np\n",
    "import datatable as dt\n",
    "from tqdm import tqdm\n",
    "import graphviz\n",
    "from collections import defaultdict\n",
    "from gplearn.functions import make_function\n",
    "\n",
    "ACTIONS_WITH_ITEM_REFERENCE = {\n",
    "    \"search for item\",\n",
    "    \"interaction item info\",\n",
    "    \"interaction item image\",\n",
    "    \"interaction item deals\",\n",
    "    \"interaction item rating\",\n",
    "    \"clickout item\",\n",
    "}"
   ]
  },
  {
   "cell_type": "code",
   "execution_count": 2,
   "metadata": {},
   "outputs": [
    {
     "name": "stdout",
     "output_type": "stream",
     "text": [
      "Reading file: [#############################################              ]  77%\u001b[m\u001b[38m\u001b[38m\u001b[38m\u001b[38m\u001b[38m\u001b[38m\u001b[38m\u001b[38m\u001b[38m\u001b[38m\u001b[38m\u001b[38m\u001b[38m\u001b[38m\u001b[38m\u001b[38m\u001b[38m\u001b[38m\u001b[38m\u001b[38m\u001b[38m\u001b[38m\u001b[38m\u001b[38m\u001b[38m\u001b[38m\u001b[38m\u001b[38m\u001b[38m\u001b[38m\u001b[38m\u001b[38m\u001b[38m\u001b[38m\u001b[38m\u001b[38m\u001b[38m\u001b[38m\u001b[38m\u001b[38m\u001b[38m\u001b[38m\u001b[38m\u001b[38m\u001b[38m\u001b[38m\u001b[38m\u001b[38m\u001b[38m\u001b[38m\u001b[38m\u001b[38m\u001b[38m\u001b[38m\u001b[38m\u001b[38m\u001b[38m\u001b[38m\u001b[38m\u001b[38m\u001b[38m\u001b[38m\u001b[38m\u001b[38m\u001b[38m\u001b[38m\u001b[38m\u001b[38m\u001b[38m\u001b[38m\u001b[38m\u001b[38m\u001b[38m\u001b[38m\u001b[38m\u001b[38m\u001b[38m\u001b[38m\u001b[38m\u001b[38m\u001b[38m\u001b[38m\u001b[38m\u001b[38m\u001b[38m\u001b[38m\u001b[38m\u001b[38m\u001b[38m\u001b[38m\u001b[38m\u001b[38m\u001b[38m\u001b[38m\u001b[38m\u001b[38m\u001b[38m\u001b[38m\u001b[38m\u001b[38m\u001b[38m\u001b[38m\u001b[38m\u001b[38m\u001b[38m\u001b[38m\u001b[38m\u001b[38m\u001b[38m\u001b[38m\u001b[38m\u001b[38m\u001b[38m\u001b[38m\u001b[38m\u001b[38m\u001b[38m\u001b[38m\u001b[38m\u001b[38m\u001b[38m\u001b[38m\u001b[38m\u001b[38m\u001b[38m\u001b[38m\u001b[38m\u001b[38m\u001b[38m\u001b[38m\u001b[38m\u001b[38m\u001b[38m\u001b[38m\u001b[38m\u001b[38m\u001b[38m\u001b[38m\u001b[38m\u001b[38m\u001b[38m\u001b[38m\u001b[38m\u001b[38m\u001b[38m\u001b[38m\u001b[38m\u001b[38m\u001b[38m\u001b[38m\u001b[38m\u001b[38m\u001b[38m\u001b[38m\u001b[38m\u001b[38m\u001b[38m\u001b[38m\u001b[38m\u001b[38m\u001b[38m\u001b[38m\u001b[38m\u001b[38m\u001b[38m\u001b[38m\u001b[38m\u001b[38m\u001b[38m\u001b[38m\u001b[38m\u001b[38m\u001b[38m\u001b[38m\u001b[38m\u001b[38m\u001b[38m\u001b[38m\u001b[38m\u001b[38m\u001b[38m\u001b[38m\u001b[38m\u001b[38m\u001b[38m\u001b[38m\u001b[38m\u001b[38m\u001b[38m\u001b[38m\u001b[38m\u001b[38m\u001b[38m\u001b[38m\u001b[38m\u001b[38m\u001b[38m\u001b[38m\u001b[38m\u001b[38m\u001b[38m\u001b[38m\u001b[38m\u001b[38m\u001b[38m\u001b[38m\u001b[38m\u001b[38m\u001b[38m\u001b[38m\u001b[38m\u001b[38m\u001b[38m\u001b[38m\u001b[38m\u001b[38m\u001b[38m\u001b[38m\u001b[38m\u001b[38m\u001b[38m\u001b[38m\u001b[38m\u001b[38m\u001b[38m\u001b[38m\u001b[38m\u001b[38m\u001b[38m\u001b[38m\u001b[38m\u001b[38m\u001b[38m\u001b[38m\u001b[38m\u001b[38m\u001b[38m\u001b[38m\u001b[38m\u001b[38m\u001b[38m\u001b[38m\u001b[38m\u001b[38m\u001b[38m\u001b[38m\u001b[38m\u001b[38m\u001b[38m\u001b[38m\u001b[38m\u001b[38m\u001b[38m\u001b[38m\u001b[38m\u001b[38m\u001b[38m\u001b[38m\u001b[38m\u001b[38m\u001b[38m\u001b[38m\u001b[38m\u001b[38m\u001b[38m\u001b[38m\u001b[38m\u001b[38m\u001b[38m\u001b[38m\u001b[38m\u001b[38m\u001b[38m\u001b[38m\u001b[38m\u001b[38m\u001b[38m\u001b[38m\u001b[38m\u001b[38m\u001b[38m\u001b[38m\u001b[38m\u001b[38m\u001b[38m\u001b[38m\u001b[38m\u001b[38m\u001b[38m\u001b[38m\u001b[38m\u001b[38m\u001b[38m\u001b[38m\u001b[38m\u001b[38m\u001b[38m\u001b[38m\u001b[38m\u001b[38m\u001b[38m\u001b[38m\u001b[38m\u001b[38m\u001b[38m\u001b[38m\u001b[38m\u001b[38m\u001b[38m\u001b[38m\u001b[38m\u001b[38m\u001b[38m\u001b[38m\u001b[38m\u001b[38m\u001b[38m\u001b[38m\u001b[38m\u001b[38m\u001b[38m\u001b[38m\u001b[38m\u001b[38m\u001b[38m\u001b[38m\u001b[38m\u001b[38m\u001b[38m\u001b[38m\u001b[38m\u001b[38m\u001b[38m\u001b[38m\u001b[38m\u001b[38m\u001b[38m\u001b[38m\u001b[38m\u001b[38m\u001b[38m\u001b[38m\u001b[38m\u001b[38m\u001b[38m\u001b[38m\u001b[38m\u001b[38m\u001b[38m\u001b[38m\u001b[38m\u001b[38m\u001b[38m\u001b[38m\u001b[38m\u001b[38m\u001b[38m\u001b[38m\u001b[38m\u001b[38m\u001b[38m\u001b[38m\u001b[38m\u001b[38m\u001b[38m\u001b[38m\u001b[38m\u001b[38m\u001b[38m\u001b[38m\u001b[38m\u001b[38m\u001b[38m\u001b[38m\u001b[38m\u001b[38m\u001b[38m\u001b[38m\u001b[38m\u001b[38m\u001b[38m\u001b[38m\u001b[38m\u001b[38m\u001b[38m\u001b[38m\u001b[38m\u001b[38m\u001b[38m\u001b[38m\u001b[38m\u001b[38m\u001b[38m\u001b[38m\u001b[38m\u001b[38m\u001b[38m\u001b[38m\u001b[38m\u001b[38m\u001b[38m\u001b[38m\u001b[38m\u001b[38m\u001b[38m\u001b[38m\u001b[38m\u001b[38m\u001b[38m\u001b[38m\u001b[38m\u001b[38m\u001b[38m\u001b[38m\u001b[38m\u001b[38m\u001b[38m\u001b[38m\u001b[38m\u001b[38m\u001b[38m\u001b[38m\u001b[38m\u001b[38m\u001b[38m\u001b[38m\u001b[38m\u001b[38m\u001b[38m\u001b[38m\u001b[38m\u001b[38m\u001b[38m\u001b[38m\u001b[38m\u001b[38m\u001b[38m\u001b[38m\u001b[38m\u001b[38m\u001b[38m\u001b[38m\u001b[38m\u001b[38m\u001b[38m\u001b[38m\u001b[38m\u001b[38m\u001b[38m\u001b[38m\u001b[38m\u001b[38m\u001b[38m\u001b[38m\u001b[38m\u001b[38m\u001b[38m\u001b[38m\u001b[38m\u001b[38m\u001b[38m\u001b[38m\u001b[38m\u001b[38m\u001b[38m\u001b[38m\u001b[38m\u001b[38m\u001b[38m\u001b[38m\u001b[38m\u001b[38m\u001b[38m\u001b[38m\u001b[38m\u001b[38m\u001b[38m\u001b[38m\u001b[38m\u001b[38m\u001b[38m\u001b[38m\u001b[38m\u001b[38m\u001b[38m\u001b[38m\u001b[38m\u001b[38m\u001b[38m\u001b[38m\u001b[38m\u001b[38m\u001b[38m\u001b[38m\u001b[38m\u001b[38m\u001b[38m\u001b[38m\u001b[38m\u001b[38m\u001b[38m\u001b[38m\u001b[38m\u001b[38m\u001b[38m\u001b[38m\u001b[38m\u001b[38m\u001b[38m\u001b[38m\u001b[38m\u001b[38m\u001b[38m\u001b[38m\u001b[38m\u001b[38m\u001b[38m\u001b[38m\u001b[38m\u001b[38m\u001b[38m\u001b[38m\u001b[38m\u001b[38m\u001b[38m\u001b[38m\u001b[38m\u001b[38m\u001b[38m\u001b[38m\u001b[38m\u001b[38m\u001b[38m\u001b[38m\u001b[38m\u001b[38m\u001b[38m\u001b[38m\u001b[38m\u001b[38m\u001b[38m\u001b[38m\u001b[38m\u001b[38m\u001b[38m\u001b[38m\u001b[38m\u001b[38m\u001b[38m\u001b[38m\u001b[38m\u001b[38m\u001b[38m\u001b[38m\u001b[38m\u001b[38m\u001b[38m\u001b[38m\u001b[38m\u001b[38m\u001b[38m\u001b[38m\u001b[38m\u001b[38m\u001b[38m\u001b[38m\u001b[38m\u001b[38m\u001b[38m\u001b[38m\u001b[38m\u001b[38m\u001b[38m\u001b[38m\u001b[38m\u001b[38m\u001b[38m\u001b[38m\u001b[38m\u001b[38m\u001b[38m\u001b[38m\u001b[38m\u001b[38m\u001b[38m\u001b[38m\u001b[38m\u001b[38m\u001b[38m\u001b[38m\u001b[38m\u001b[38m\u001b[38m\u001b[38m\u001b[38m\u001b[38m\u001b[38m\u001b[38m\u001b[38m\u001b[38m\u001b[38m\u001b[38m\u001b[38m\u001b[38m\u001b[38m\u001b[38m\u001b[38m\u001b[38m\u001b[38m\u001b[38m\u001b[38m\u001b[38m\u001b[38m\u001b[38m\u001b[38m\u001b[38m\u001b[38m\u001b[38m\u001b[38m\u001b[38m\u001b[38m\u001b[38m\u001b[38m\u001b[38m\u001b[38m\u001b[38m\u001b[38m\u001b[38m\u001b[38m\u001b[38m\u001b[38m\u001b[38m\u001b[38m\u001b[38m\u001b[38m\u001b[38m\u001b[38m\u001b[38m\u001b[38m\u001b[38m\u001b[38m\u001b[38m\u001b[38m\u001b[38m\u001b[38m\u001b[38m\u001b[38m\u001b[38m\u001b[38m\u001b[38m\u001b[38m\u001b[38m\u001b[38m\u001b[38m\u001b[38m\u001b[38m\u001b[38m\u001b[38m\u001b[38m\u001b[38m\u001b[38m\u001b[38m\u001b[38m\u001b[38m\u001b[38m\u001b[38m\u001b[38m\u001b[38m\u001b[38m\u001b[38m\u001b[38m\u001b[38m\u001b[38m\u001b[38m\u001b[38m\u001b[38m\u001b[38m\u001b[38m\u001b[38m\u001b[38m\u001b[38m\u001b[38m\u001b[38m\u001b[38m\u001b[38m\u001b[38m\u001b[38m\u001b[38m\u001b[38m\u001b[38m\u001b[38m\u001b[38m\u001b[38m\u001b[38m\u001b[38m\u001b[38m\u001b[38m\u001b[38m\u001b[38m\u001b[38m\u001b[38m\u001b[38m\u001b[38m\u001b[38m\u001b[38m\u001b[38m\u001b[38m\u001b[38m\u001b[38m\u001b[38m\u001b[38m\u001b[38m\u001b[38m\u001b[38m\u001b[38m\u001b[38m\u001b[38m\u001b[38m\u001b[38m\u001b[38m\u001b[38m\u001b[38m\u001b[38m\u001b[38m\u001b[38m\u001b[38m\u001b[38m\u001b[38m\u001b[38m\u001b[38m\u001b[38m\u001b[38m\u001b[38m\u001b[38m\u001b[38m\u001b[38m\u001b[38m\u001b[38m\u001b[38m\u001b[38m\u001b[38m\u001b[38m\u001b[38m\u001b[38m\u001b[38m\u001b[38m\u001b[38m\u001b[38m\u001b[38m\u001b[38m\u001b[38m\u001b[38m\u001b[38m\u001b[38m\u001b[38m\u001b[38m\u001b[38m\u001b[38m\u001b[38m\u001b[38m\u001b[38m\u001b[38m\u001b[38m\u001b[38m\u001b[38m\u001b[38m\u001b[38m\u001b[38m\u001b[38m\u001b[38m\u001b[38m\u001b[38m\u001b[38m\u001b[38m\u001b[38m\u001b[38m\u001b[38m\u001b[38m\u001b[38m\u001b[38m\u001b[38m\u001b[38m\u001b[38m\u001b[38m\u001b[38m\u001b[38m\u001b[38m\u001b[38m\u001b[38m\u001b[38m\u001b[38m\u001b[38m\u001b[38m\u001b[38m\u001b[38m\u001b[38m\u001b[38m\u001b[38m\u001b[38m\u001b[38m\u001b[38m\u001b[38m\u001b[38m\u001b[38m\u001b[38m\u001b[38m\u001b[38m\u001b[38m\u001b[38m\u001b[38m\u001b[38m\u001b[38m\u001b[38m\u001b[38m\u001b[38m\u001b[38m\u001b[38m\u001b[38m\u001b[38m\u001b[38m\u001b[38m\u001b[38m\u001b[38m\u001b[38m\u001b[38m\u001b[38m\u001b[38m\u001b[38m\u001b[38m\u001b[38m\u001b[38m\u001b[38m\u001b[38m\u001b[38m\u001b[38m\u001b[38m\u001b[38m\u001b[38m\u001b[38m\u001b[38m\u001b[38m\u001b[38m\u001b[38m\u001b[38m\u001b[38m\u001b[38m\u001b[38m\u001b[38m\u001b[38m\u001b[38m\u001b[38m\u001b[38m\u001b[38m\u001b[38m\u001b[38m\u001b[38m\u001b[38m\u001b[38m\u001b[38m\u001b[38m\u001b[38m\u001b[38m\u001b[38m\u001b[38m\u001b[38m\u001b[38m\u001b[38m\u001b[38m\u001b[38m\u001b[38m\u001b[38m\u001b[38m\u001b[38m\u001b[38m\u001b[38m\u001b[38m\u001b[38m\u001b[38m\u001b[38m\u001b[38m\u001b[38m\u001b[38m\u001b[38m\u001b[38m\u001b[38m\u001b[38m\u001b[38m\u001b[38m\u001b[38m\u001b[38m\u001b[38m\u001b[38m\u001b[38m\u001b[38m\u001b[38m\u001b[38m\u001b[38m\u001b[38m\u001b[38m\u001b[38m\u001b[38m\u001b[38m\u001b[38m\u001b[38m\u001b[38m\u001b[38m\u001b[38m\u001b[38m\u001b[38m\u001b[38m\u001b[38m\u001b[38m\u001b[38m\u001b[38m\u001b[38m\u001b[38m\u001b[38m\u001b[38m\u001b[38m\u001b[38m\u001b[38m\u001b[38m\u001b[38m\u001b[38m\u001b[38m\u001b[38m\u001b[38m\u001b[38m\u001b[38m\u001b[38m\u001b[38m\u001b[38m\u001b[38m\u001b[38m\u001b[38m\u001b[38m\u001b[38m\u001b[38m\u001b[38m\u001b[38m\u001b[38m\u001b[38m\u001b[38m\u001b[38m\u001b[38m\u001b[38m\u001b[38m\u001b[38m\u001b[38m\u001b[38m\u001b[38m\u001b[38m\u001b[38m\u001b[38m\u001b[38m\u001b[38m\u001b[38m\u001b[38m\u001b[38m\u001b[38m\u001b[38m\u001b[38m\u001b[38m\u001b[38m\u001b[38m\u001b[38m\u001b[38m\u001b[38m\u001b[38m\u001b[38m\u001b[38m\u001b[38m\u001b[38m\u001b[38m\u001b[38m\u001b[38m\u001b[38m\u001b[38m\u001b[38m\u001b[38m\u001b[38m\u001b[38m\u001b[38m\u001b[38m\u001b[38m\u001b[38m\u001b[38m\u001b[38m\u001b[38m\u001b[38m\u001b[38m\u001b[38m\u001b[38m\u001b[38m\u001b[38m\u001b[38m\u001b[38m\u001b[38m\u001b[38m\u001b[38m\u001b[38m\u001b[38m\u001b[38m\u001b[38m\u001b[38m\u001b[38m\u001b[38m\u001b[38m\u001b[38m\u001b[38m\u001b[38m\u001b[38m\u001b[38m\u001b[38m\u001b[38m\u001b[38m\u001b[38m\u001b[38m\u001b[38m\u001b[38m\u001b[38m\u001b[38m\u001b[38m\u001b[38m\u001b[38m\u001b[38m\u001b[38m\u001b[38m\u001b[38m\u001b[38m\u001b[38m\u001b[38m\u001b[38m\u001b[38m\u001b[38m\u001b[38m\u001b[38m\u001b[38m\u001b[38m\u001b[38m\u001b[38m\u001b[38m\u001b[38m\u001b[38m\u001b[38m\u001b[38m\u001b[38m\u001b[38m\u001b[38m\u001b[38m\u001b[38m\u001b[38m\u001b[38m\u001b[38m\u001b[38m\u001b[38m\u001b[38m\u001b[38m\u001b[38m\u001b[38m\u001b[38m\u001b[38m\u001b[38m\u001b[38m\u001b[38m\u001b[38m\u001b[38m\u001b[38m\u001b[38m\u001b[38m\u001b[38m\u001b[38m\u001b[38m\u001b[38m\u001b[38m\u001b[38m\u001b[38m\u001b[38m\u001b[38m\u001b[38m\u001b[38m\u001b[38m\u001b[38m\u001b[38m\u001b[38m\u001b[38m\u001b[38m\u001b[38m\u001b[38m\u001b[38m\u001b[38m\u001b[38m\u001b[38m\u001b[38m\u001b[38m\u001b[38m\u001b[38m\u001b[38m\u001b[38m\u001b[38m\u001b[38m\u001b[38m\u001b[38m\u001b[38m\u001b[38m\u001b[38m\u001b[38m\u001b[38m\u001b[38m\u001b[38m\u001b[38m\u001b[38m\u001b[38m\u001b[38m\u001b[38m\u001b[38m\u001b[38m\u001b[38m\u001b[38m\u001b[38m\u001b[38m\u001b[38m\u001b[38m\u001b[38m\u001b[38m\u001b[38m\u001b[38m\u001b[38m\u001b[38m\u001b[38m\u001b[38m\u001b[38m\u001b[38m\u001b[38m\u001b[38m\u001b[38m\u001b[38m\u001b[38m\u001b[38m\u001b[38m\u001b[38m\u001b[38m\u001b[38m\u001b[38m\u001b[38m\u001b[38m\u001b[38m\u001b[38m\u001b[38m\u001b[38m\u001b[38m\u001b[38m\u001b[38m\u001b[38m\u001b[38m\u001b[38m\u001b[38m\u001b[38m\u001b[38m\u001b[38m\u001b[38m\u001b[38m\u001b[38m\u001b[38m\u001b[38m\u001b[38m\u001b[38m\u001b[38m\u001b[38m\u001b[38m\u001b[38m\u001b[38m\u001b[38m\u001b[38m\u001b[38m\u001b[38m\u001b[38m\u001b[38m\u001b[38m\u001b[38m\u001b[38m\u001b[38m\u001b[38m\u001b[38m\u001b[38m\u001b[38m\u001b[38m\u001b[38m\u001b[38m\u001b[38m\u001b[38m\u001b[38m\u001b[38m\u001b[38m\u001b[38m\u001b[38m\u001b[38m\u001b[38m\u001b[38m\u001b[38m\u001b[38m\u001b[38m\u001b[38m\u001b[38m\u001b[38m\u001b[38m\u001b[38m\u001b[38m\u001b[38m\u001b[38m\u001b[38m\u001b[38m\u001b[38m\u001b[38m\u001b[38m\u001b[38m\u001b[38m\u001b[38m\u001b[38m\u001b[38m\u001b[38m\u001b[38m\u001b[38m\u001b[38m\u001b[38m\u001b[38m\u001b[38m\u001b[38m\u001b[38m\u001b[38m\u001b[38m\u001b[38m\u001b[38m\u001b[38m\u001b[38m\u001b[38m\u001b[38m\u001b[38m\u001b[38m\u001b[38m\u001b[38m\u001b[38m\u001b[38m\u001b[38m\u001b[38m\u001b[38m\u001b[38m\u001b[38m\u001b[38m\u001b[38m\u001b[38m\u001b[38m\u001b[38m\u001b[38m\u001b[38m\u001b[38m\u001b[38m\u001b[38m\u001b[38m\u001b[38m\u001b[38m\u001b[38m\u001b[38m\u001b[38m\u001b[38m\u001b[38m\u001b[38m\u001b[38m\u001b[38m\u001b[38m\u001b[38m\u001b[38m\u001b[38m\u001b[38m\u001b[38m\u001b[38m\u001b[38m\u001b[38m\u001b[38m\u001b[38m\u001b[38m\u001b[38m\u001b[38m\u001b[38m\u001b[38m\u001b[38m\u001b[38m\u001b[38m\u001b[38m\u001b[38m\u001b[38m\u001b[38m\u001b[38m\u001b[38m\u001b[38m\u001b[38m\u001b[38m\u001b[38m\u001b[38m\u001b[38m\u001b[38m\u001b[38m\u001b[38m\u001b[38m\u001b[38m\u001b[38m\u001b[38m\u001b[38m\u001b[38m\u001b[38m\u001b[38m\u001b[38m\u001b[38m\u001b[38m\u001b[38m\u001b[38m\u001b[38m\u001b[38m\u001b[38m\u001b[38m\u001b[38m\u001b[38m\u001b[38m\u001b[38m\u001b[38m\u001b[38m\u001b[38m\u001b[38m\u001b[38m\u001b[38m\u001b[38m\u001b[38m\u001b[38m\u001b[38m\u001b[38m\u001b[38m\u001b[38m\u001b[38m\u001b[38m\u001b[38m\u001b[38m\u001b[38m\u001b[38m\u001b[38m\u001b[38m\u001b[38m\u001b[38m\u001b[38m\u001b[38m\u001b[38m\u001b[38m\u001b[38m\u001b[38m\u001b[38m\u001b[38m\u001b[38m\u001b[38m\u001b[38m\u001b[38m\u001b[38m\u001b[38m\u001b[38m\u001b[38m\u001b[38m\u001b[38m\u001b[38m\u001b[38m\u001b[38m\u001b[38m\u001b[38m\u001b[38m\u001b[38m\u001b[38m\u001b[38m\u001b[38m\u001b[38m\u001b[38m\u001b[38m\u001b[38m\u001b[38m\u001b[38m\u001b[38m\u001b[38m\u001b[38m\u001b[38m\u001b[38m\u001b[38m\u001b[38m\u001b[38m\u001b[38m\u001b[38m\u001b[38m\u001b[38m\u001b[38m\u001b[38m\u001b[38m\u001b[38m\u001b[38m\u001b[38m\u001b[38m\u001b[38m\u001b[38m\u001b[38m\u001b[38m\u001b[38m\u001b[38m\u001b[38m\u001b[38m\u001b[38m\u001b[38m\u001b[38m\u001b[38m\u001b[38m\u001b[38m\u001b[38m\u001b[38m\u001b[38m\u001b[38m\u001b[38m\u001b[38m\u001b[38m\u001b[38m\u001b[38m\u001b[38m\u001b[38m\u001b[38m\u001b[38m\u001b[38m\u001b[38m\u001b[38m\u001b[38m\u001b[38m\u001b[38m\u001b[38m\u001b[38m\u001b[38m\u001b[38m\u001b[38m\u001b[38m\u001b[38m\u001b[38m\u001b[38m\u001b[38m\u001b[38m\u001b[38m\u001b[38m\u001b[38m\u001b[38m\u001b[38m\u001b[38m\u001b[38m\u001b[38m\u001b[38m\u001b[38m\u001b[38m\u001b[38m\u001b[38m\u001b[38m\u001b[38m\u001b[38m\u001b[38m\u001b[38m\u001b[38m\u001b[38m\u001b[38m\u001b[38m\u001b[38m\u001b[38m\u001b[38m\u001b[38m\u001b[38m\u001b[38m\u001b[38m\u001b[38m\u001b[38m\u001b[38m\u001b[38m\u001b[38m\u001b[38m\u001b[38m\u001b[38m\u001b[38m\u001b[38m\u001b[38m\u001b[38m\u001b[38m\u001b[38m\u001b[38m\u001b[38m\u001b[38m\u001b[38m\u001b[38m\u001b[38m\u001b[38m\u001b[38m\u001b[38m\u001b[38m\u001b[38m\u001b[38m\u001b[38m\u001b[38m\u001b[38m\u001b[38m\u001b[38m\u001b[38m\u001b[38m\u001b[38m\u001b[38m\u001b[38m\u001b[38m\u001b[38m\u001b[38m\u001b[38m\u001b[38m\u001b[38m\u001b[38m\u001b[38m\u001b[38m\u001b[38m\u001b[38m\u001b[38m\u001b[38m\u001b[38m\u001b[38m\u001b[38m\u001b[38m\u001b[38m\u001b[38m\u001b[38m\u001b[38m\u001b[38m\u001b[38m\u001b[38m\u001b[38m\u001b[38m\u001b[38m\u001b[38m\u001b[38m\u001b[38m\u001b[38m\u001b[38m\u001b[38m\u001b[38m\u001b[38m\u001b[38m\u001b[38m\u001b[38m\u001b[38m\u001b[38m\u001b[38m\u001b[38m\u001b[38m\u001b[38m\u001b[38m\u001b[38m\u001b[38m\u001b[38m\u001b[38m\u001b[38m\u001b[38m\u001b[38m\u001b[38m\u001b[38m\u001b[38m\u001b[38m\u001b[38m\u001b[38m\u001b[38m\u001b[38m\u001b[38m\u001b[38m\u001b[38m\u001b[38m\u001b[38m\u001b[38m\u001b[38m\u001b[38m\u001b[38m\u001b[38m\u001b[38m\u001b[38m\u001b[38m\u001b[38m\u001b[38m\u001b[38m\u001b[38m\u001b[38m\u001b[38m\u001b[38m\u001b[38m\u001b[38m\u001b[38m\u001b[38m\u001b[38m\u001b[38m\u001b[38m\u001b[38m\u001b[38m\u001b[38m\u001b[38m\u001b[38m\u001b[38m\u001b[38m\u001b[38m\u001b[38m\u001b[38m\u001b[38m\u001b[38m\u001b[38m\u001b[38m\u001b[38m\u001b[38m\u001b[38m\u001b[38m\u001b[38m\u001b[38m\u001b[38m\u001b[38m\u001b[38m\u001b[38m\u001b[38m\u001b[38m"
     ]
    },
    {
     "name": "stdout",
     "output_type": "stream",
     "text": [
      "                                                                                \u001b[m\u001b[38m\u001b[38m\u001b[38m\u001b[38m\u001b[38m\u001b[38m\u001b[38m\u001b[38m\u001b[38m\u001b[38m\u001b[38m\u001b[38m\u001b[38m\u001b[38m\u001b[38m\u001b[38m\u001b[38m\u001b[38m\u001b[38m\u001b[38m\u001b[38m\u001b[38m\u001b[38m\u001b[38m\u001b[38m\u001b[38m\u001b[38m\u001b[38m\u001b[38m\u001b[38m\u001b[38m\u001b[38m\u001b[38m\u001b[38m\u001b[38m\u001b[38m\u001b[38m\u001b[38m\u001b[38m\u001b[38m\u001b[38m\u001b[38m\u001b[38m\u001b[38m\u001b[38m\u001b[38m\u001b[38m\u001b[38m\u001b[38m\u001b[38m\u001b[38m\u001b[38m\u001b[38m\u001b[38m\u001b[38m\u001b[38m\u001b[38m\u001b[38m\u001b[38m\u001b[38m\u001b[38m\u001b[38m\u001b[38m\u001b[38m\u001b[38m\u001b[38m\u001b[38m\u001b[38m\u001b[38m\u001b[38m\u001b[38m\u001b[38m\u001b[38m\u001b[38m\u001b[38m\u001b[38m\u001b[38m\u001b[38m\u001b[38m\u001b[38m\u001b[38m\u001b[38m\u001b[38m\u001b[38m\u001b[38m\u001b[38m\u001b[38m\u001b[38m\u001b[38m\u001b[38m\u001b[38m\u001b[38m\u001b[38m\u001b[38m\u001b[38m\u001b[38m\u001b[38m\u001b[38m\u001b[38m\u001b[38m\u001b[38m\u001b[38m\u001b[38m\u001b[38m\u001b[38m\u001b[38m\u001b[38m\u001b[38m\u001b[38m\u001b[38m\u001b[38m\u001b[38m\u001b[38m\u001b[38m\u001b[38m\u001b[38m\u001b[38m\u001b[38m\u001b[38m\u001b[38m\u001b[38m\u001b[38m\u001b[38m\u001b[38m\u001b[38m\u001b[38m\u001b[38m\u001b[38m\u001b[38m\u001b[38m\u001b[38m\u001b[38m\u001b[38m\u001b[38m\u001b[38m\u001b[38m\u001b[38m\u001b[38m\u001b[38m\u001b[38m\u001b[38m\u001b[38m\u001b[38m\u001b[38m\u001b[38m\u001b[38m\u001b[38m\u001b[38m\u001b[38m\u001b[38m\u001b[38m\u001b[38m\u001b[38m\u001b[38m\u001b[38m\u001b[38m\u001b[38m\u001b[38m\u001b[38m\u001b[38m\u001b[38m\u001b[38m\u001b[38m\u001b[38m\u001b[38m\u001b[38m\u001b[38m\u001b[38m\u001b[38m\u001b[38m\u001b[38m\u001b[38m\u001b[38m\u001b[38m\u001b[38m\u001b[38m\u001b[38m\u001b[38m\u001b[38m\u001b[38m\u001b[38m\u001b[38m\u001b[38m\u001b[38m\u001b[38m\u001b[38m\u001b[38m\u001b[38m\u001b[38m\u001b[38m\u001b[38m\u001b[38m\u001b[38m\u001b[38m\u001b[38m\u001b[38m\u001b[38m\u001b[38m\u001b[38m\u001b[38m\u001b[38m\u001b[38m\u001b[38m\u001b[38m\u001b[38m\u001b[38m\u001b[38m\u001b[38m\u001b[38m\u001b[38m\u001b[38m\u001b[38m\u001b[38m\u001b[38m\u001b[38m\u001b[38m\u001b[38m\u001b[38m\u001b[38m\u001b[38m\u001b[38m\u001b[38m\u001b[38m\u001b[38m\u001b[38m\u001b[38m\u001b[38m\u001b[38m\u001b[38m\u001b[38m\u001b[38m\u001b[38m\u001b[38m\u001b[38m\u001b[38m\u001b[38m\u001b[38m\u001b[38m\u001b[38m\u001b[38m\u001b[38m\u001b[38m\u001b[38m\u001b[38m\u001b[38m\u001b[38m\u001b[38m\u001b[38m\u001b[38m\u001b[38m\u001b[38m\u001b[38m\u001b[38m\u001b[38m\u001b[38m\u001b[38m\u001b[38m\u001b[38m\u001b[38m\u001b[38m\u001b[38m\u001b[38m\u001b[38m\u001b[38m\u001b[38m\u001b[38m\u001b[38m\u001b[38m\u001b[38m\u001b[38m\u001b[38m\u001b[38m\u001b[38m\u001b[38m\u001b[38m\u001b[38m\u001b[38m\u001b[38m\u001b[38m\u001b[38m\u001b[38m\u001b[38m\u001b[38m\u001b[38m\u001b[38m\u001b[38m\u001b[38m\u001b[38m\u001b[38m\u001b[38m\u001b[38m\u001b[38m\u001b[38m\u001b[38m\u001b[38m\u001b[38m\u001b[38m\u001b[38m\u001b[38m\u001b[38m\u001b[38m\u001b[38m\u001b[38m\u001b[38m\u001b[38m\u001b[38m\u001b[38m\u001b[38m\u001b[38m\u001b[38m\u001b[38m\u001b[38m\u001b[38m\u001b[38m\u001b[38m\u001b[38m\u001b[38m\u001b[38m\u001b[38m\u001b[38m\u001b[38m\u001b[38m\u001b[38m\u001b[38m\u001b[38m\u001b[38m\u001b[38m\u001b[38m\u001b[38m\u001b[38m\u001b[38m\u001b[38m\u001b[38m\u001b[38m\u001b[38m\u001b[38m\u001b[38m\u001b[38m\u001b[38m\u001b[38m\u001b[38m\u001b[38m\u001b[38m\u001b[38m\u001b[38m\u001b[38m\u001b[38m\u001b[38m\u001b[38m\u001b[38m\u001b[38m\u001b[38m\u001b[38m\u001b[38m\u001b[38m\u001b[38m\u001b[38m\u001b[38m\u001b[38m\u001b[38m\u001b[38m\u001b[38m\u001b[38m\u001b[38m\u001b[38m\u001b[38m\u001b[38m\u001b[38m\u001b[38m\u001b[38m\u001b[38m\u001b[38m\u001b[38m\u001b[38m\u001b[38m\u001b[38m\u001b[38m\u001b[38m\u001b[38m\u001b[38m\u001b[38m\u001b[38m\u001b[38m\u001b[38m\u001b[38m\u001b[38m\u001b[38m\u001b[38m\u001b[38m\u001b[38m\u001b[38m\u001b[38m\u001b[38m\u001b[38m\u001b[38m\u001b[38m\u001b[38m\u001b[38m\u001b[38m\u001b[38m\u001b[38m\u001b[38m\u001b[38m\u001b[38m\u001b[38m\u001b[38m\u001b[38m\u001b[38m\u001b[38m\u001b[38m\u001b[38m\u001b[38m\u001b[38m\u001b[38m\u001b[38m\u001b[38m\u001b[38m\u001b[38m\u001b[38m\u001b[38m\u001b[38m\u001b[38m\u001b[38m\u001b[38m\u001b[38m\u001b[38m\u001b[38m\u001b[38m\u001b[38m\u001b[38m\u001b[38m\u001b[38m\u001b[38m\u001b[38m\u001b[38m\u001b[38m\u001b[38m\u001b[38m\u001b[38m\u001b[38m\u001b[38m\u001b[38m\u001b[38m\u001b[38m\u001b[38m\u001b[38m\u001b[38m\u001b[38m\u001b[38m\u001b[38m\u001b[38m\u001b[38m\u001b[38m\u001b[38m\u001b[38m\u001b[38m\u001b[38m\u001b[38m\u001b[38m\u001b[38m\u001b[38m\u001b[38m\u001b[38m\u001b[38m\u001b[38m\u001b[38m\u001b[38m\u001b[38m\u001b[38m\u001b[38m\u001b[38m\u001b[38m\u001b[38m\u001b[38m\u001b[38m\u001b[38m\u001b[38m\u001b[38m\u001b[38m\r"
     ]
    }
   ],
   "source": [
    "df = dt.fread(\"../../../data/events_sorted.csv\") "
   ]
  },
  {
   "cell_type": "code",
   "execution_count": 26,
   "metadata": {},
   "outputs": [],
   "source": [
    "ref = df[:,[\"user_id\", \"action_type\", \"session_id\", \"reference\", \"timestamp\"]]"
   ]
  },
  {
   "cell_type": "code",
   "execution_count": 28,
   "metadata": {},
   "outputs": [],
   "source": [
    "ref = ref.topandas()"
   ]
  },
  {
   "cell_type": "code",
   "execution_count": 32,
   "metadata": {},
   "outputs": [
    {
     "name": "stdout",
     "output_type": "stream",
     "text": [
      "24 19\n",
      "               user_id    action_type     session_id reference   timestamp\n",
      "15064391  0029BRXGBS69  clickout item  faea882736d0f   3070245  1541527912\n",
      "15069801  0029BRXGBS69  clickout item  faea882736d0f    486816  1541528034\n",
      "15087041  0029BRXGBS69  clickout item  faea882736d0f    129382  1541528430\n",
      "15093606  0029BRXGBS69  clickout item  faea882736d0f   1238515  1541528570\n",
      "15230340  0029BRXGBS69  clickout item  faea882736d0f    486816  1541531540\n",
      "15284367  0029BRXGBS69  clickout item  faea882736d0f    164085  1541532723\n",
      "15293780  0029BRXGBS69  clickout item  faea882736d0f   5122378  1541532919\n",
      "15362203  0029BRXGBS69  clickout item  faea882736d0f   5122378  1541534401\n",
      "15362749  0029BRXGBS69  clickout item  faea882736d0f   1174271  1541534412\n",
      "15375755  0029BRXGBS69  clickout item  faea882736d0f   1238515  1541534706\n",
      "15377281  0029BRXGBS69  clickout item  faea882736d0f    486816  1541534738\n",
      "15381966  0029BRXGBS69  clickout item  faea882736d0f    928711  1541534838\n",
      "15388044  0029BRXGBS69  clickout item  faea882736d0f   3183324  1541534964\n",
      "15391960  0029BRXGBS69  clickout item  faea882736d0f   9601908  1541535041\n",
      "15394346  0029BRXGBS69  clickout item  faea882736d0f   2627069  1541535093\n",
      "15406895  0029BRXGBS69  clickout item  faea882736d0f   3499694  1541535354\n",
      "15407845  0029BRXGBS69  clickout item  faea882736d0f    935801  1541535375\n",
      "15497763  0029BRXGBS69  clickout item  faea882736d0f   2103382  1541537312\n",
      "15499684  0029BRXGBS69  clickout item  faea882736d0f    984971  1541537352\n",
      "15512171  0029BRXGBS69  clickout item  faea882736d0f   2244894  1541537651\n",
      "15514464  0029BRXGBS69  clickout item  faea882736d0f    984973  1541537703\n",
      "15685211  0029BRXGBS69  clickout item  faea882736d0f    486816  1541541638\n",
      "17187231  0029BRXGBS69  clickout item  888c06dab65a2    936395  1541611250\n",
      "17256166  0029BRXGBS69  clickout item  888c06dab65a2            1541613633\n"
     ]
    }
   ],
   "source": [
    "for user_id in [\"0029BRXGBS69\"]:\n",
    "    clickouts = ref[(ref[\"user_id\"]==user_id)&(ref[\"action_type\"]==\"clickout item\")]\n",
    "    print(clickouts.shape[0], clickouts[\"reference\"].nunique())\n",
    "    print(clickouts)"
   ]
  },
  {
   "cell_type": "code",
   "execution_count": 13,
   "metadata": {},
   "outputs": [
    {
     "data": {
      "text/plain": [
       "1      527877\n",
       "2      189800\n",
       "3       86882\n",
       "4       46617\n",
       "5       27224\n",
       "6       17439\n",
       "7       11466\n",
       "8        8006\n",
       "9        5535\n",
       "10       4252\n",
       "11       3129\n",
       "12       2513\n",
       "13       1885\n",
       "14       1453\n",
       "15       1173\n",
       "16        936\n",
       "17        765\n",
       "18        620\n",
       "19        520\n",
       "20        480\n",
       "21        364\n",
       "22        314\n",
       "24        254\n",
       "23        232\n",
       "25        224\n",
       "26        191\n",
       "27        147\n",
       "28        143\n",
       "29        136\n",
       "30        111\n",
       "        ...  \n",
       "61          2\n",
       "122         1\n",
       "132         1\n",
       "123         1\n",
       "127         1\n",
       "128         1\n",
       "291         1\n",
       "158         1\n",
       "181         1\n",
       "183         1\n",
       "226         1\n",
       "228         1\n",
       "244         1\n",
       "120         1\n",
       "121         1\n",
       "89          1\n",
       "116         1\n",
       "112         1\n",
       "110         1\n",
       "103         1\n",
       "102         1\n",
       "100         1\n",
       "98          1\n",
       "97          1\n",
       "92          1\n",
       "87          1\n",
       "86          1\n",
       "83          1\n",
       "80          1\n",
       "331         1\n",
       "Name: session_id, Length: 113, dtype: int64"
      ]
     },
     "execution_count": 13,
     "metadata": {},
     "output_type": "execute_result"
    }
   ],
   "source": [
    "clickouts_num = ref[ref[\"action_type\"]==\"clickout item\"].groupby(\"user_id\")[\"session_id\"].count().sort_values(ascending=False)\n",
    "clickouts_num.value_counts()"
   ]
  },
  {
   "cell_type": "code",
   "execution_count": null,
   "metadata": {},
   "outputs": [],
   "source": []
  }
 ],
 "metadata": {
  "jupytext": {
   "main_language": "python",
   "text_representation": {
    "extension": ".py",
    "format_name": "light",
    "format_version": "1.3",
    "jupytext_version": "1.0.2"
   }
  },
  "kernelspec": {
   "display_name": "Python 3",
   "language": "python",
   "name": "python3"
  },
  "language_info": {
   "codemirror_mode": {
    "name": "ipython",
    "version": 3
   },
   "file_extension": ".py",
   "mimetype": "text/x-python",
   "name": "python",
   "nbconvert_exporter": "python",
   "pygments_lexer": "ipython3",
   "version": "3.6.8"
  }
 },
 "nbformat": 4,
 "nbformat_minor": 2
}
